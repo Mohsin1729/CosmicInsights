{
 "cells": [
  {
   "cell_type": "code",
   "execution_count": 2,
   "id": "f226282c",
   "metadata": {},
   "outputs": [
    {
     "ename": "SystemExit",
     "evalue": "",
     "output_type": "error",
     "traceback": [
      "An exception has occurred, use %tb to see the full traceback.\n",
      "\u001b[0;31mSystemExit\u001b[0m\n"
     ]
    }
   ],
   "source": [
    "import pygame\n",
    "import sys\n",
    "import math\n",
    "\n",
    "# Initialize Pygame\n",
    "pygame.init()\n",
    "\n",
    "# Constants\n",
    "WIDTH, HEIGHT = 800, 600\n",
    "FPS = 60\n",
    "\n",
    "# Colors\n",
    "WHITE = (255, 255, 255)\n",
    "YELLOW = (255, 255, 0)\n",
    "BLUE = (0, 0, 255)\n",
    "\n",
    "# Initialize the screen\n",
    "screen = pygame.display.set_mode((WIDTH, HEIGHT))\n",
    "pygame.display.set_caption(\"Solar System Animation\")\n",
    "\n",
    "# Function to draw a planet\n",
    "def draw_planet(surface, color, radius, angle, orbit_radius):\n",
    "    x = WIDTH // 2 + int(math.cos(math.radians(angle)) * orbit_radius)\n",
    "    y = HEIGHT // 2 + int(math.sin(math.radians(angle)) * orbit_radius)\n",
    "    pygame.draw.circle(surface, color, (x, y), radius)\n",
    "\n",
    "# Function to draw an orbit\n",
    "def draw_orbit(surface, orbit_radius):\n",
    "    pygame.draw.circle(surface, WHITE, (WIDTH // 2, HEIGHT // 2), orbit_radius, 1)\n",
    "\n",
    "# Main game loop\n",
    "clock = pygame.time.Clock()\n",
    "angle = 0\n",
    "\n",
    "while True:\n",
    "    for event in pygame.event.get():\n",
    "        if event.type == pygame.QUIT:\n",
    "            pygame.quit()\n",
    "            sys.exit()\n",
    "\n",
    "    # Clear the screen\n",
    "    screen.fill(WHITE)\n",
    "\n",
    "    # Draw the sun\n",
    "    pygame.draw.circle(screen, YELLOW, (WIDTH // 2, HEIGHT // 2), 30)\n",
    "\n",
    "    # Draw orbits\n",
    "    draw_orbit(screen, 80)\n",
    "    draw_orbit(screen, 150)\n",
    "    draw_orbit(screen, 220)\n",
    "\n",
    "    # Draw planets\n",
    "    draw_planet(screen, BLUE, 10, angle, 80)\n",
    "    draw_planet(screen, BLUE, 15, angle * 0.5, 150)\n",
    "    draw_planet(screen, BLUE, 20, angle * 0.3, 220)\n",
    "\n",
    "    # Update the angle for the next frame\n",
    "    angle += 1\n",
    "\n",
    "    # Update the display\n",
    "    pygame.display.flip()\n",
    "\n",
    "    # Cap the frame rate\n",
    "    clock.tick(FPS)\n"
   ]
  },
  {
   "cell_type": "code",
   "execution_count": null,
   "id": "1a04c697",
   "metadata": {},
   "outputs": [],
   "source": []
  }
 ],
 "metadata": {
  "kernelspec": {
   "display_name": "Python 3 (ipykernel)",
   "language": "python",
   "name": "python3"
  },
  "language_info": {
   "codemirror_mode": {
    "name": "ipython",
    "version": 3
   },
   "file_extension": ".py",
   "mimetype": "text/x-python",
   "name": "python",
   "nbconvert_exporter": "python",
   "pygments_lexer": "ipython3",
   "version": "3.7.16"
  }
 },
 "nbformat": 4,
 "nbformat_minor": 5
}
